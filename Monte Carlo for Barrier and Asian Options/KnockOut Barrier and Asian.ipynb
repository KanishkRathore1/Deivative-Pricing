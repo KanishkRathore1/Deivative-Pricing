{
 "cells": [
  {
   "cell_type": "code",
   "execution_count": 66,
   "id": "597e00df",
   "metadata": {},
   "outputs": [
    {
     "name": "stdout",
     "output_type": "stream",
     "text": [
      "9.884206511571387\n",
      "2.420376724568267\n"
     ]
    }
   ],
   "source": [
    "import pandas as pd\n",
    "import numpy as np\n",
    "import scipy.stats as st \n",
    "\n",
    "def simulatepaths(spot, rfr, sigma, ttm):\n",
    "    nas = 100000\n",
    "    nts = 252\n",
    "    dt = ttm/nts\n",
    "    \n",
    "    data = np.zeros((nas,nts+1),dtype=float)\n",
    "    grid = pd.DataFrame(data)\n",
    "    grid.iloc[:,0] = spot\n",
    "    \n",
    "    z = np.random.normal(0.0,1.0,[nas,nts])\n",
    "    w = np.zeros([nas, nts+1])\n",
    "    \n",
    "    for i in range (0,nts):\n",
    "        z[:,i] = (z[:,i] - np.mean(z[:,i]))/np.std(z[:,i])\n",
    "        w[:,i+1] = w[:,i] + np.sqrt(dt)*z[:,i]\n",
    "        grid.iloc[:,i+1]= grid.iloc[:,i]*np.exp((rfr-(.5*(sigma**2)))*dt + sigma*(w[:,i+1]-w[:,i]))\n",
    "    \n",
    "    return grid\n",
    "\n",
    "\n",
    "# KO Barrier option Pricing\n",
    "rfr = .05\n",
    "ttm = 1\n",
    "sigma = .2\n",
    "strike = 100\n",
    "spot = 100\n",
    "KnockoutBarrier = 150\n",
    "\n",
    "paths = pd.DataFrame(simulatepaths(spot,rfr,sigma,ttm))\n",
    "q = np.zeros([len(paths),2])\n",
    "Cdtn = paths>KnockoutBarrier\n",
    "Sum = np.sum(k,axis=1)\n",
    "q[:,0] = Sum\n",
    "for i in range (0,len(paths)):\n",
    "    if q[i,0] >= 1:\n",
    "        q[i,1] = 0\n",
    "    else:\n",
    "        q[i,1] = 1\n",
    "KOCall = np.exp(-rfr*ttm)*np.mean(np.maximum((paths.iloc[:,-1]-strike)*q[:,1],0))\n",
    "print(KOCall)\n",
    "\n",
    "# Asian Option Pricing\n",
    "\n",
    "rfr = .05\n",
    "ttm = 1\n",
    "sigma = .2\n",
    "strike = 100\n",
    "spot = 100\n",
    "\n",
    "paths = pd.DataFrame(simulatepaths(spot,rfr,sigma,ttm))\n",
    "avg = paths.mean(axis=0)\n",
    "\n",
    "Asian = np.exp(-rfr*ttm)*np.mean(np.maximum((avg-strike),0))\n",
    "print(Asian)\n"
   ]
  },
  {
   "cell_type": "code",
   "execution_count": null,
   "id": "a5fb6abd",
   "metadata": {},
   "outputs": [],
   "source": []
  },
  {
   "cell_type": "code",
   "execution_count": null,
   "id": "eac99c01",
   "metadata": {},
   "outputs": [],
   "source": []
  }
 ],
 "metadata": {
  "kernelspec": {
   "display_name": "Python 3 (ipykernel)",
   "language": "python",
   "name": "python3"
  },
  "language_info": {
   "codemirror_mode": {
    "name": "ipython",
    "version": 3
   },
   "file_extension": ".py",
   "mimetype": "text/x-python",
   "name": "python",
   "nbconvert_exporter": "python",
   "pygments_lexer": "ipython3",
   "version": "3.11.3"
  }
 },
 "nbformat": 4,
 "nbformat_minor": 5
}
