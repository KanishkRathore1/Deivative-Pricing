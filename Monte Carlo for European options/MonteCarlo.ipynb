{
 "cells": [
  {
   "cell_type": "code",
   "execution_count": 143,
   "id": "7742666d",
   "metadata": {},
   "outputs": [
    {
     "data": {
      "text/plain": [
       "10.38938423561137"
      ]
     },
     "execution_count": 143,
     "metadata": {},
     "output_type": "execute_result"
    }
   ],
   "source": [
    "import pandas as pd\n",
    "import numpy as np\n",
    "import scipy.stats as st \n",
    "\n",
    "def simulatepaths(spot, rfr, sigma, ttm):\n",
    "    nas = 100000\n",
    "    nts = 252\n",
    "    dt = ttm/nts\n",
    "    \n",
    "    data = np.zeros((nas,nts+1),dtype=float)\n",
    "    grid = pd.DataFrame(data)\n",
    "    grid.iloc[:,0] = spot\n",
    "    \n",
    "    z = np.random.normal(0.0,1.0,[nas,nts])\n",
    "    w = np.zeros([nas, nts+1])\n",
    "    \n",
    "    for i in range (0,nts):\n",
    "        z[:,i] = (z[:,i] - np.mean(z[:,i]))/np.std(z[:,i])\n",
    "        w[:,i+1] = w[:,i] + np.sqrt(dt)*z[:,i]\n",
    "        grid.iloc[:,i+1]= grid.iloc[:,i]*np.exp((rfr-(.5*(sigma**2)))*dt + sigma*(w[:,i+1]-w[:,i]))\n",
    "    \n",
    "    return grid\n",
    "\n",
    "\n",
    "#European option Pricing\n",
    "rfr = .05\n",
    "ttm = 1\n",
    "strike = 100\n",
    "\n",
    "paths = pd.DataFrame(simulatepaths(100,.05,.2,1))\n",
    "Call = np.exp(-rfr*ttm)*np.mean(np.maximum(0,paths.iloc[:,-1]-strike))\n",
    "Call\n"
   ]
  },
  {
   "cell_type": "code",
   "execution_count": null,
   "id": "3cb2054f",
   "metadata": {},
   "outputs": [],
   "source": []
  },
  {
   "cell_type": "code",
   "execution_count": null,
   "id": "7fa1a89f",
   "metadata": {},
   "outputs": [],
   "source": [
    "\n"
   ]
  },
  {
   "cell_type": "code",
   "execution_count": null,
   "id": "c3eed668",
   "metadata": {},
   "outputs": [],
   "source": []
  },
  {
   "cell_type": "code",
   "execution_count": null,
   "id": "f95854b7",
   "metadata": {},
   "outputs": [],
   "source": []
  },
  {
   "cell_type": "code",
   "execution_count": null,
   "id": "8df9b9ef",
   "metadata": {},
   "outputs": [],
   "source": []
  }
 ],
 "metadata": {
  "kernelspec": {
   "display_name": "Python 3 (ipykernel)",
   "language": "python",
   "name": "python3"
  },
  "language_info": {
   "codemirror_mode": {
    "name": "ipython",
    "version": 3
   },
   "file_extension": ".py",
   "mimetype": "text/x-python",
   "name": "python",
   "nbconvert_exporter": "python",
   "pygments_lexer": "ipython3",
   "version": "3.11.3"
  }
 },
 "nbformat": 4,
 "nbformat_minor": 5
}
