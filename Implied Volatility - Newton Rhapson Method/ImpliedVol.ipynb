{
 "cells": [
  {
   "cell_type": "code",
   "execution_count": 1,
   "id": "7cc21f90",
   "metadata": {},
   "outputs": [
    {
     "name": "stdout",
     "output_type": "stream",
     "text": [
      "iteration 1 with e = 9.032632887094614\n",
      "iteration 2 with e = 0.4859827518122586\n",
      "iteration 3 with e = 0.02259588019267511\n",
      "iteration 4 with e = 0.0010303606886239436\n"
     ]
    },
    {
     "data": {
      "text/plain": [
       "0.3795579590215292"
      ]
     },
     "execution_count": 1,
     "metadata": {},
     "output_type": "execute_result"
    }
   ],
   "source": [
    "import numpy as np\n",
    "import pandas as pd\n",
    "import scipy.stats as st\n",
    "\n",
    "\n",
    "marketprice = 10\n",
    "strike = 120\n",
    "ttm = 1\n",
    "rfr = .05\n",
    "spot = 100\n",
    "sigma = .25\n",
    "callput = \"call\"\n",
    "\n",
    "def BS_option_price(callput, spot, strike, rfr, ttm, sigma):\n",
    "    d1 = (np.log(spot/strike)+(rfr+.5*np.power(sigma,2))*ttm)/(sigma*np.sqrt(ttm))\n",
    "    d2 = d1 - sigma*np.sqrt(ttm)\n",
    "    if str(callput) == \"call\":    \n",
    "        value = st.norm.cdf(d1)*spot - (st.norm.cdf(d2)*np.exp(-rfr*ttm)*strike)\n",
    "    elif str(callput) == \"put\": \n",
    "        value = -st.norm.cdf(-d1)*spot + (st.norm.cdf(-d2)*np.exp(-rfr*ttm)*strike)\n",
    "    return value\n",
    "\n",
    "def vega(spot, strike, sigma, ttm, rfr):\n",
    "    d1 = (np.log(spot/strike+(rfr+.5*np.power(sigma,2))*ttm))/(sigma*np.sqrt(ttm))\n",
    "    value = spot*np.exp(-rfr*ttm)*np.sqrt(ttm)*st.norm.pdf(d1)\n",
    "    return value\n",
    "\n",
    "def impliedvol(marketprice, spot, strike, sigma_in, ttm, rfr):\n",
    "    e = .02 \n",
    "    n = 1\n",
    "    while e > .01:\n",
    "        sigma_new = sigma_in - ((BS_option_price(callput, spot, strike, rfr, ttm, sigma_in) - marketprice)/vega(spot, strike, sigma_in, ttm, rfr))\n",
    "        e = abs(BS_option_price(callput, spot, strike, rfr, ttm, sigma_new) - marketprice)\n",
    "        sigma_in = sigma_new\n",
    "        print('iteration {0} with e = {1}'.format(n,e))\n",
    "        n=n+1\n",
    "    return sigma_in\n",
    "Vola = impliedvol(marketprice, spot, strike, .1, ttm, rfr)\n",
    "Vola"
   ]
  },
  {
   "cell_type": "code",
   "execution_count": null,
   "id": "33aef856",
   "metadata": {},
   "outputs": [],
   "source": []
  }
 ],
 "metadata": {
  "kernelspec": {
   "display_name": "Python 3 (ipykernel)",
   "language": "python",
   "name": "python3"
  },
  "language_info": {
   "codemirror_mode": {
    "name": "ipython",
    "version": 3
   },
   "file_extension": ".py",
   "mimetype": "text/x-python",
   "name": "python",
   "nbconvert_exporter": "python",
   "pygments_lexer": "ipython3",
   "version": "3.11.3"
  }
 },
 "nbformat": 4,
 "nbformat_minor": 5
}
